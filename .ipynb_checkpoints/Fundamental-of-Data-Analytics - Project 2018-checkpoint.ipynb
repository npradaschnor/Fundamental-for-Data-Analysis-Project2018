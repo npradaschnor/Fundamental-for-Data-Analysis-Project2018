{
 "cells": [
  {
   "cell_type": "markdown",
   "metadata": {},
   "source": [
    "<a href=\"https://ibb.co/h3GAuq\"><img src=\"https://image.ibb.co/kt1M0V/GMIT-LOGO.png\" alt=\"GMIT-LOGO\" border=\"0\"></a>\n",
    "\n",
    "\n",
    "# HD Computer Science - Data Analytics\n",
    "\n",
    "# Fundamental of Data Analytics - Project 2018\n",
    "\n",
    "## Noa Pereira Prada Schnor"
   ]
  },
  {
   "cell_type": "markdown",
   "metadata": {
    "collapsed": true
   },
   "source": [
    "# About the project\n"
   ]
  },
  {
   "cell_type": "markdown",
   "metadata": {},
   "source": [
    "• Summarise the history of the box plot and situations in which it used. \n",
    "• Demonstrate the use of the box plot using data of your choosing.\n",
    "• Explain any relevant terminology such as the terms quartile and percentile. \n",
    "• Compare the box plot to alternatives."
   ]
  },
  {
   "cell_type": "markdown",
   "metadata": {},
   "source": [
    "# What is box plot?\n",
    "\n",
    "The 'Box and Whisker Plot\" was introduced by the American mathematician John W. Tukey in 1969 as a diagram to visualize the 'Five Number Summary' of any data set [8]. \n",
    "\n",
    "[John Tukey] <a href=\"https://ibb.co/4PQG1YN\"><img src=\"https://i.ibb.co/2gbQZsK/John-Tukey.jpg\" alt=\"John-Tukey\" border=\"0\"></a>\n",
    "\n",
    "Since 1969 box plot has been used and probably is one of the most used type of graphic  as it is a very effective and easy to read [1,5, 8]. \n",
    "A box plot is a standardized method for displaying the distribution of data based on their quartiles (minimum, first quartile Q1, median, third quartile Q3 and maximum) [2,4]. That way, a box plot summarizes the distribution of data from multiple sources in a single graph [1, 5].\n",
    "\n",
    "[Example of a box plot] <a href=\"https://ibb.co/8dSchyV\"><img src=\"https://i.ibb.co/Sd9rLkp/Box-Plot-mit-Interquartilsabstand.png\" alt=\"Box-Plot-mit-Interquartilsabstand\" border=\"0\"></a>\n",
    "\n",
    "A box plot allows the comparison of data from different categories and gives a range of information, such as shape, center (median) and variability of a data set and it makes easier for decision-making [5, 6]."
   ]
  },
  {
   "cell_type": "markdown",
   "metadata": {},
   "source": [
    "# Variations of box plot"
   ]
  },
  {
   "cell_type": "markdown",
   "metadata": {},
   "source": [
    "# Why and when a box plot should be used?"
   ]
  },
  {
   "cell_type": "markdown",
   "metadata": {},
   "source": [
    "Box plot should be used to get a nice summary of one or more numeric variables [1]. Moreover, box plots are good at comparing distributions and at identifying outliers and their values (extreme values) [3].\n",
    "Box plots can also tell if the data is symmetric and how tightly the data is grouped and if it skewed [4].\n",
    "\n",
    "/////\n",
    "It can tell you about your outliers and what their values are. It can also tell you if your data is symmetrical, how tightly your data is grouped, and if and how your data is skewed. A boxplot is a graph that gives you a good indication of how the values in the data are spread out [4]. It can tell you about your outliers and what their values are. It can also tell you if your data is symmetrical, how tightly your data is grouped, and if and how your data is skewed. A boxplot is a graph that gives you a good indication of how the values in the data are spread out [4].\n",
    "Use box and whisker plots when you have multiple data sets from independent sources that are related to each other in some way. Examples include test scores between schools or classrooms, data from before and after a process change, similar features on one part such as cam shaft lobes, or data from duplicate machines manufacturing the same products [5].\n",
    "A box plot is one of very few statistical graph methods that show outliers. There might be one outlier or multiple outliers within a set of data, which occurs both below and above the minimum and maximum data values. By extending the lesser and greater data values to a max of 1.5 times the inter-quartile range, the box plot delivers outliers or obscure results. Any results of data that fall outside of the minimum and maximum values known as outliers are easy to determine on a box plot graph."
   ]
  },
  {
   "cell_type": "markdown",
   "metadata": {},
   "source": [
    "# How to read the box plot?\n",
    "\n",
    "Basically the box plot shows 'Five number summary': median, 25th percentile, 75th percentile, minimum and maximum. The line inside the box represents the median (50th percentile) of the data. The end of the box represents the upper and lower quartiles (75th and 25th percentiles). The extreme lines (whiskers) represent the maximum and minimum value not including the outliers number [1].\n",
    "\n",
    "\n",
    "\n",
    "IMAGEM BOXPLOT COM ESTES TERMOS ABAIXO DESCRITOS . DESKTOP COMO BOXPLOT.GIF\n",
    "\n",
    "\n",
    "\n",
    "Terminology:\n",
    "\n",
    "|Terminoloy|Definition|\n",
    "| --- | --- |\n",
    "| Box | Main body of a box plot graph [9]|\n",
    "| Whiskers | Vertical lines that extends to the most extreme, but non-outlier data points. They represent the response variable. [3, 9]|\n",
    "| Caps | Horizontal lines at the end of the whiskers [9]|\n",
    "| Q1 First quartile/25th Percentile/Lower hinge | Middle value between the smallest value and the median (Q2/50th percentile) of a data set [4]|\n",
    "| Median/Q2 Second quartile/50th Percentile | Horizontal line inside the box that represents the middle value of the data set [4, 9] |\n",
    "| Q3 Third quartile/75th Percentile/Upper hinge | Middle number between the median (Q2/50th percentile) and the highest number of a data set [4]|\n",
    "| IQR Interquartile range/H-spread | Range from 25th to 75th percentile (Q3 - Q1) [4]|\n",
    "| Step | 1.5 * IQR or H-spread [3]|\n",
    "| Maximum/Upper inner fence | Q3 + 1 step or 1.5 * IQR [4] |\n",
    "| Minimum/Lower inner fence  |Q1 -  1 step or 1.5 * IQR [4] |\n",
    "| Upper outer fence | Q3 + 2 steps [3] |\n",
    "| Lower outer fence | Q1 - 2 steps [3] |\n",
    "| Upper adjacent | Highest value below upper inner fence/maximum [3] |\n",
    "| Lower adjacent | Smallest number above lower inner fence/minimum [3] |\n",
    "| Outliers/fliers | Points that represent data that extend beyond the whiskers [9] |\n",
    "\n",
    "\n",
    "A box plot shows basic information about the distribution of a data. The median of a symmetric data set roughly is in the middle of the box [6]. A skewed data set show a lopsided box plot, where the box is divided in two unequal pieces [6]. If the whisker is longer in the positive direction than in the negative direction or the mean is larger than the median it shows a distribution with a positive skew [3]."
   ]
  },
  {
   "cell_type": "markdown",
   "metadata": {},
   "source": [
    "# Demonstration of the use of the box plot"
   ]
  },
  {
   "cell_type": "markdown",
   "metadata": {
    "collapsed": true
   },
   "source": [
    "### Data set used to create example of a box plot"
   ]
  },
  {
   "cell_type": "markdown",
   "metadata": {},
   "source": [
    "The INtegrated Mapping FOr the Sustainable Development of Ireland's MArine Resource (INFOMAR) Seabed Samples Particle Size Analysis data set that contains the locations where the samples have been taken, the particle size analysis (PSA) of the samples and the sediment type classification that is based on the percentage of sand, mud and gravel (after Folk 1954)."
   ]
  },
  {
   "cell_type": "code",
   "execution_count": 57,
   "metadata": {
    "collapsed": true
   },
   "outputs": [],
   "source": [
    "import pandas as pd"
   ]
  },
  {
   "cell_type": "code",
   "execution_count": 58,
   "metadata": {},
   "outputs": [],
   "source": [
    "url = \"https://opendata.arcgis.com/datasets/3ee4cf41133b4c54818aceb946cbac92_3.csv\"\n",
    "\n",
    "infomar = pd.read_csv(url, delimiter= ',', header = 0)"
   ]
  },
  {
   "cell_type": "markdown",
   "metadata": {},
   "source": [
    "#### Check the first 20 rows of the data set"
   ]
  },
  {
   "cell_type": "code",
   "execution_count": 59,
   "metadata": {},
   "outputs": [
    {
     "data": {
      "text/html": [
       "<div>\n",
       "<style>\n",
       "    .dataframe thead tr:only-child th {\n",
       "        text-align: right;\n",
       "    }\n",
       "\n",
       "    .dataframe thead th {\n",
       "        text-align: left;\n",
       "    }\n",
       "\n",
       "    .dataframe tbody tr th {\n",
       "        vertical-align: top;\n",
       "    }\n",
       "</style>\n",
       "<table border=\"1\" class=\"dataframe\">\n",
       "  <thead>\n",
       "    <tr style=\"text-align: right;\">\n",
       "      <th></th>\n",
       "      <th>SAMPLE_ID</th>\n",
       "      <th>SURVEY</th>\n",
       "      <th>MUD</th>\n",
       "      <th>SAND</th>\n",
       "      <th>GRAVEL</th>\n",
       "      <th>PSA_DSCRPT</th>\n",
       "      <th>SYMBOL</th>\n",
       "      <th>FOLK_CLASS</th>\n",
       "      <th>INSTRUMENT</th>\n",
       "      <th>OBJECTID</th>\n",
       "    </tr>\n",
       "  </thead>\n",
       "  <tbody>\n",
       "    <tr>\n",
       "      <th>0</th>\n",
       "      <td>CV12008_042</td>\n",
       "      <td>CV12008_042</td>\n",
       "      <td>33.756981</td>\n",
       "      <td>66.243019</td>\n",
       "      <td>0.0</td>\n",
       "      <td>very poorly sorted</td>\n",
       "      <td>mS</td>\n",
       "      <td>Muddy sand</td>\n",
       "      <td>Day Grab</td>\n",
       "      <td>1336</td>\n",
       "    </tr>\n",
       "    <tr>\n",
       "      <th>1</th>\n",
       "      <td>CV12008_043</td>\n",
       "      <td>CV12008_043</td>\n",
       "      <td>25.108158</td>\n",
       "      <td>74.891843</td>\n",
       "      <td>0.0</td>\n",
       "      <td>very poorly sorted</td>\n",
       "      <td>mS</td>\n",
       "      <td>Muddy sand</td>\n",
       "      <td>Day Grab</td>\n",
       "      <td>1337</td>\n",
       "    </tr>\n",
       "    <tr>\n",
       "      <th>2</th>\n",
       "      <td>CV12008_044</td>\n",
       "      <td>CV12008_044</td>\n",
       "      <td>28.671568</td>\n",
       "      <td>71.328431</td>\n",
       "      <td>0.0</td>\n",
       "      <td>very poorly sorted</td>\n",
       "      <td>mS</td>\n",
       "      <td>Muddy sand</td>\n",
       "      <td>Day Grab</td>\n",
       "      <td>1338</td>\n",
       "    </tr>\n",
       "    <tr>\n",
       "      <th>3</th>\n",
       "      <td>CV12008_045</td>\n",
       "      <td>CV12008_045</td>\n",
       "      <td>20.835014</td>\n",
       "      <td>79.165034</td>\n",
       "      <td>0.0</td>\n",
       "      <td>poorly sorted</td>\n",
       "      <td>mS</td>\n",
       "      <td>Muddy sand</td>\n",
       "      <td>Day Grab</td>\n",
       "      <td>1339</td>\n",
       "    </tr>\n",
       "    <tr>\n",
       "      <th>4</th>\n",
       "      <td>CV12008_046</td>\n",
       "      <td>CV12008_046</td>\n",
       "      <td>43.750097</td>\n",
       "      <td>56.249903</td>\n",
       "      <td>0.0</td>\n",
       "      <td>very poorly sorted</td>\n",
       "      <td>mS</td>\n",
       "      <td>Muddy sand</td>\n",
       "      <td>Day Grab</td>\n",
       "      <td>1340</td>\n",
       "    </tr>\n",
       "    <tr>\n",
       "      <th>5</th>\n",
       "      <td>CV12008_047</td>\n",
       "      <td>CV12008_047</td>\n",
       "      <td>19.750985</td>\n",
       "      <td>80.249016</td>\n",
       "      <td>0.0</td>\n",
       "      <td>poorly sorted</td>\n",
       "      <td>mS</td>\n",
       "      <td>Muddy sand</td>\n",
       "      <td>Day Grab</td>\n",
       "      <td>1341</td>\n",
       "    </tr>\n",
       "    <tr>\n",
       "      <th>6</th>\n",
       "      <td>CV12008_048</td>\n",
       "      <td>CV12008_048</td>\n",
       "      <td>15.574520</td>\n",
       "      <td>84.425480</td>\n",
       "      <td>0.0</td>\n",
       "      <td>poorly sorted</td>\n",
       "      <td>mS</td>\n",
       "      <td>Muddy sand</td>\n",
       "      <td>Day Grab</td>\n",
       "      <td>1342</td>\n",
       "    </tr>\n",
       "    <tr>\n",
       "      <th>7</th>\n",
       "      <td>CV12008_049</td>\n",
       "      <td>CV12008_049</td>\n",
       "      <td>21.819876</td>\n",
       "      <td>78.180123</td>\n",
       "      <td>0.0</td>\n",
       "      <td>very poorly sorted</td>\n",
       "      <td>mS</td>\n",
       "      <td>Muddy sand</td>\n",
       "      <td>Day Grab</td>\n",
       "      <td>1343</td>\n",
       "    </tr>\n",
       "    <tr>\n",
       "      <th>8</th>\n",
       "      <td>CV12008_050</td>\n",
       "      <td>CV12008_050</td>\n",
       "      <td>54.740659</td>\n",
       "      <td>45.259338</td>\n",
       "      <td>0.0</td>\n",
       "      <td>very poorly sorted</td>\n",
       "      <td>sM</td>\n",
       "      <td>Sandy mud</td>\n",
       "      <td>Day Grab</td>\n",
       "      <td>1344</td>\n",
       "    </tr>\n",
       "    <tr>\n",
       "      <th>9</th>\n",
       "      <td>CV12008_051</td>\n",
       "      <td>CV12008_051</td>\n",
       "      <td>49.353134</td>\n",
       "      <td>50.646865</td>\n",
       "      <td>0.0</td>\n",
       "      <td>very poorly sorted</td>\n",
       "      <td>mS</td>\n",
       "      <td>Muddy sand</td>\n",
       "      <td>Day Grab</td>\n",
       "      <td>1345</td>\n",
       "    </tr>\n",
       "    <tr>\n",
       "      <th>10</th>\n",
       "      <td>CV12008_052</td>\n",
       "      <td>CV12008_052</td>\n",
       "      <td>27.182883</td>\n",
       "      <td>72.817117</td>\n",
       "      <td>0.0</td>\n",
       "      <td>very poorly sorted</td>\n",
       "      <td>mS</td>\n",
       "      <td>Muddy sand</td>\n",
       "      <td>Day Grab</td>\n",
       "      <td>1346</td>\n",
       "    </tr>\n",
       "    <tr>\n",
       "      <th>11</th>\n",
       "      <td>CV12008_053</td>\n",
       "      <td>CV12008_053</td>\n",
       "      <td>28.837688</td>\n",
       "      <td>71.162313</td>\n",
       "      <td>0.0</td>\n",
       "      <td>very poorly sorted</td>\n",
       "      <td>mS</td>\n",
       "      <td>Muddy sand</td>\n",
       "      <td>Day Grab</td>\n",
       "      <td>1347</td>\n",
       "    </tr>\n",
       "    <tr>\n",
       "      <th>12</th>\n",
       "      <td>CV12008_054</td>\n",
       "      <td>CV12008_054</td>\n",
       "      <td>27.157945</td>\n",
       "      <td>72.842053</td>\n",
       "      <td>0.0</td>\n",
       "      <td>poorly sorted</td>\n",
       "      <td>mS</td>\n",
       "      <td>Muddy sand</td>\n",
       "      <td>Day Grab</td>\n",
       "      <td>1348</td>\n",
       "    </tr>\n",
       "    <tr>\n",
       "      <th>13</th>\n",
       "      <td>CV12008_055</td>\n",
       "      <td>CV12008_055</td>\n",
       "      <td>25.134469</td>\n",
       "      <td>74.865532</td>\n",
       "      <td>0.0</td>\n",
       "      <td>poorly sorted</td>\n",
       "      <td>mS</td>\n",
       "      <td>Muddy sand</td>\n",
       "      <td>Day Grab</td>\n",
       "      <td>1349</td>\n",
       "    </tr>\n",
       "    <tr>\n",
       "      <th>14</th>\n",
       "      <td>CV12008_056</td>\n",
       "      <td>CV12008_056</td>\n",
       "      <td>22.402848</td>\n",
       "      <td>77.597151</td>\n",
       "      <td>0.0</td>\n",
       "      <td>poorly sorted</td>\n",
       "      <td>mS</td>\n",
       "      <td>Muddy sand</td>\n",
       "      <td>Day Grab</td>\n",
       "      <td>1350</td>\n",
       "    </tr>\n",
       "    <tr>\n",
       "      <th>15</th>\n",
       "      <td>CV12008_057</td>\n",
       "      <td>CV12008_057</td>\n",
       "      <td>0.000000</td>\n",
       "      <td>100.000001</td>\n",
       "      <td>0.0</td>\n",
       "      <td>moderately sorted</td>\n",
       "      <td>S</td>\n",
       "      <td>Sand</td>\n",
       "      <td>Day Grab</td>\n",
       "      <td>1351</td>\n",
       "    </tr>\n",
       "    <tr>\n",
       "      <th>16</th>\n",
       "      <td>CV12008_058</td>\n",
       "      <td>CV12008_058</td>\n",
       "      <td>0.389041</td>\n",
       "      <td>99.610959</td>\n",
       "      <td>0.0</td>\n",
       "      <td>moderately sorted</td>\n",
       "      <td>S</td>\n",
       "      <td>Sand</td>\n",
       "      <td>Day Grab</td>\n",
       "      <td>1352</td>\n",
       "    </tr>\n",
       "    <tr>\n",
       "      <th>17</th>\n",
       "      <td>CV12008_059</td>\n",
       "      <td>CV12008_059</td>\n",
       "      <td>0.000000</td>\n",
       "      <td>100.000000</td>\n",
       "      <td>0.0</td>\n",
       "      <td>moderately well sorted</td>\n",
       "      <td>S</td>\n",
       "      <td>Sand</td>\n",
       "      <td>Day Grab</td>\n",
       "      <td>1353</td>\n",
       "    </tr>\n",
       "    <tr>\n",
       "      <th>18</th>\n",
       "      <td>CV12008_060</td>\n",
       "      <td>CV12008_060</td>\n",
       "      <td>5.391644</td>\n",
       "      <td>94.608354</td>\n",
       "      <td>0.0</td>\n",
       "      <td>poorly sorted</td>\n",
       "      <td>S</td>\n",
       "      <td>Sand</td>\n",
       "      <td>Day Grab</td>\n",
       "      <td>1354</td>\n",
       "    </tr>\n",
       "    <tr>\n",
       "      <th>19</th>\n",
       "      <td>CV12008_061</td>\n",
       "      <td>CV12008_061</td>\n",
       "      <td>56.278880</td>\n",
       "      <td>43.721119</td>\n",
       "      <td>0.0</td>\n",
       "      <td>very poorly sorted</td>\n",
       "      <td>sM</td>\n",
       "      <td>Sandy mud</td>\n",
       "      <td>Day Grab</td>\n",
       "      <td>1355</td>\n",
       "    </tr>\n",
       "  </tbody>\n",
       "</table>\n",
       "</div>"
      ],
      "text/plain": [
       "      SAMPLE_ID       SURVEY        MUD        SAND  GRAVEL  \\\n",
       "0   CV12008_042  CV12008_042  33.756981   66.243019     0.0   \n",
       "1   CV12008_043  CV12008_043  25.108158   74.891843     0.0   \n",
       "2   CV12008_044  CV12008_044  28.671568   71.328431     0.0   \n",
       "3   CV12008_045  CV12008_045  20.835014   79.165034     0.0   \n",
       "4   CV12008_046  CV12008_046  43.750097   56.249903     0.0   \n",
       "5   CV12008_047  CV12008_047  19.750985   80.249016     0.0   \n",
       "6   CV12008_048  CV12008_048  15.574520   84.425480     0.0   \n",
       "7   CV12008_049  CV12008_049  21.819876   78.180123     0.0   \n",
       "8   CV12008_050  CV12008_050  54.740659   45.259338     0.0   \n",
       "9   CV12008_051  CV12008_051  49.353134   50.646865     0.0   \n",
       "10  CV12008_052  CV12008_052  27.182883   72.817117     0.0   \n",
       "11  CV12008_053  CV12008_053  28.837688   71.162313     0.0   \n",
       "12  CV12008_054  CV12008_054  27.157945   72.842053     0.0   \n",
       "13  CV12008_055  CV12008_055  25.134469   74.865532     0.0   \n",
       "14  CV12008_056  CV12008_056  22.402848   77.597151     0.0   \n",
       "15  CV12008_057  CV12008_057   0.000000  100.000001     0.0   \n",
       "16  CV12008_058  CV12008_058   0.389041   99.610959     0.0   \n",
       "17  CV12008_059  CV12008_059   0.000000  100.000000     0.0   \n",
       "18  CV12008_060  CV12008_060   5.391644   94.608354     0.0   \n",
       "19  CV12008_061  CV12008_061  56.278880   43.721119     0.0   \n",
       "\n",
       "                PSA_DSCRPT SYMBOL  FOLK_CLASS INSTRUMENT  OBJECTID  \n",
       "0       very poorly sorted     mS  Muddy sand   Day Grab      1336  \n",
       "1       very poorly sorted     mS  Muddy sand   Day Grab      1337  \n",
       "2       very poorly sorted     mS  Muddy sand   Day Grab      1338  \n",
       "3            poorly sorted     mS  Muddy sand   Day Grab      1339  \n",
       "4       very poorly sorted     mS  Muddy sand   Day Grab      1340  \n",
       "5            poorly sorted     mS  Muddy sand   Day Grab      1341  \n",
       "6            poorly sorted     mS  Muddy sand   Day Grab      1342  \n",
       "7       very poorly sorted     mS  Muddy sand   Day Grab      1343  \n",
       "8       very poorly sorted     sM   Sandy mud   Day Grab      1344  \n",
       "9       very poorly sorted     mS  Muddy sand   Day Grab      1345  \n",
       "10      very poorly sorted     mS  Muddy sand   Day Grab      1346  \n",
       "11      very poorly sorted     mS  Muddy sand   Day Grab      1347  \n",
       "12           poorly sorted     mS  Muddy sand   Day Grab      1348  \n",
       "13           poorly sorted     mS  Muddy sand   Day Grab      1349  \n",
       "14           poorly sorted     mS  Muddy sand   Day Grab      1350  \n",
       "15       moderately sorted      S        Sand   Day Grab      1351  \n",
       "16       moderately sorted      S        Sand   Day Grab      1352  \n",
       "17  moderately well sorted      S        Sand   Day Grab      1353  \n",
       "18           poorly sorted      S        Sand   Day Grab      1354  \n",
       "19      very poorly sorted     sM   Sandy mud   Day Grab      1355  "
      ]
     },
     "execution_count": 59,
     "metadata": {},
     "output_type": "execute_result"
    }
   ],
   "source": [
    "infomar.head (20)"
   ]
  },
  {
   "cell_type": "markdown",
   "metadata": {},
   "source": [
    "#### Summarize the data"
   ]
  },
  {
   "cell_type": "code",
   "execution_count": 60,
   "metadata": {},
   "outputs": [
    {
     "data": {
      "text/html": [
       "<div>\n",
       "<style>\n",
       "    .dataframe thead tr:only-child th {\n",
       "        text-align: right;\n",
       "    }\n",
       "\n",
       "    .dataframe thead th {\n",
       "        text-align: left;\n",
       "    }\n",
       "\n",
       "    .dataframe tbody tr th {\n",
       "        vertical-align: top;\n",
       "    }\n",
       "</style>\n",
       "<table border=\"1\" class=\"dataframe\">\n",
       "  <thead>\n",
       "    <tr style=\"text-align: right;\">\n",
       "      <th></th>\n",
       "      <th>MUD</th>\n",
       "      <th>SAND</th>\n",
       "      <th>GRAVEL</th>\n",
       "      <th>OBJECTID</th>\n",
       "    </tr>\n",
       "  </thead>\n",
       "  <tbody>\n",
       "    <tr>\n",
       "      <th>count</th>\n",
       "      <td>1653.000000</td>\n",
       "      <td>1653.000000</td>\n",
       "      <td>1653.000000</td>\n",
       "      <td>1653.000000</td>\n",
       "    </tr>\n",
       "    <tr>\n",
       "      <th>mean</th>\n",
       "      <td>17.265615</td>\n",
       "      <td>69.062829</td>\n",
       "      <td>13.682979</td>\n",
       "      <td>827.000000</td>\n",
       "    </tr>\n",
       "    <tr>\n",
       "      <th>std</th>\n",
       "      <td>25.311262</td>\n",
       "      <td>30.582775</td>\n",
       "      <td>26.609323</td>\n",
       "      <td>477.324313</td>\n",
       "    </tr>\n",
       "    <tr>\n",
       "      <th>min</th>\n",
       "      <td>0.000000</td>\n",
       "      <td>0.000000</td>\n",
       "      <td>0.000000</td>\n",
       "      <td>1.000000</td>\n",
       "    </tr>\n",
       "    <tr>\n",
       "      <th>25%</th>\n",
       "      <td>0.000000</td>\n",
       "      <td>47.885799</td>\n",
       "      <td>0.000000</td>\n",
       "      <td>414.000000</td>\n",
       "    </tr>\n",
       "    <tr>\n",
       "      <th>50%</th>\n",
       "      <td>3.917330</td>\n",
       "      <td>79.859487</td>\n",
       "      <td>0.072000</td>\n",
       "      <td>827.000000</td>\n",
       "    </tr>\n",
       "    <tr>\n",
       "      <th>75%</th>\n",
       "      <td>25.733694</td>\n",
       "      <td>95.749857</td>\n",
       "      <td>11.072671</td>\n",
       "      <td>1240.000000</td>\n",
       "    </tr>\n",
       "    <tr>\n",
       "      <th>max</th>\n",
       "      <td>97.294944</td>\n",
       "      <td>100.000001</td>\n",
       "      <td>100.000000</td>\n",
       "      <td>1653.000000</td>\n",
       "    </tr>\n",
       "  </tbody>\n",
       "</table>\n",
       "</div>"
      ],
      "text/plain": [
       "               MUD         SAND       GRAVEL     OBJECTID\n",
       "count  1653.000000  1653.000000  1653.000000  1653.000000\n",
       "mean     17.265615    69.062829    13.682979   827.000000\n",
       "std      25.311262    30.582775    26.609323   477.324313\n",
       "min       0.000000     0.000000     0.000000     1.000000\n",
       "25%       0.000000    47.885799     0.000000   414.000000\n",
       "50%       3.917330    79.859487     0.072000   827.000000\n",
       "75%      25.733694    95.749857    11.072671  1240.000000\n",
       "max      97.294944   100.000001   100.000000  1653.000000"
      ]
     },
     "execution_count": 60,
     "metadata": {},
     "output_type": "execute_result"
    }
   ],
   "source": [
    "infomar.describe()"
   ]
  },
  {
   "cell_type": "markdown",
   "metadata": {},
   "source": [
    "#### Check for missing values"
   ]
  },
  {
   "cell_type": "code",
   "execution_count": 61,
   "metadata": {},
   "outputs": [
    {
     "data": {
      "text/plain": [
       "False"
      ]
     },
     "execution_count": 61,
     "metadata": {},
     "output_type": "execute_result"
    }
   ],
   "source": [
    "infomar.isnull().values.any()"
   ]
  },
  {
   "cell_type": "code",
   "execution_count": 69,
   "metadata": {},
   "outputs": [
    {
     "data": {
      "image/png": "[encoded data removed]",
      "text/plain": [
       "<matplotlib.figure.Figure at 0x152a453c88>"
      ]
     },
     "metadata": {},
     "output_type": "display_data"
    }
   ],
   "source": [
    "import matplotlib.pyplot as plt\n",
    "\n",
    "df = pd.DataFrame(infomar)\n",
    "\n",
    "fig, axs = plt.subplots(2, 3)\n",
    "\n",
    "axs[0, 0].boxplot('MUD', data = df) # Basic box plot\n",
    "axs[0, 1].boxplot('MUD', data = df, notch = True) # Notched box plot\n",
    "axs[0, 2].boxplot('MUD', data = df, sym = '') # Box plot with no fliers\n",
    "axs[1, 0].boxplot('MUD', data = df, vert = False) # Horizontal box plot\n",
    "axs[1, 1].boxplot('MUD', data = df, showmeans = True) # Show the mean\n",
    "axs[1, 2].boxplot('MUD', data = df, showmeans = True, meanline = True)\n",
    "plt.show()"
   ]
  },
  {
   "cell_type": "code",
   "execution_count": null,
   "metadata": {
    "collapsed": true
   },
   "outputs": [],
   "source": []
  },
  {
   "cell_type": "code",
   "execution_count": null,
   "metadata": {
    "collapsed": true
   },
   "outputs": [],
   "source": []
  },
  {
   "cell_type": "code",
   "execution_count": null,
   "metadata": {
    "collapsed": true
   },
   "outputs": [],
   "source": []
  },
  {
   "cell_type": "markdown",
   "metadata": {},
   "source": [
    "# Alternatives to box plot\n",
    "\n",
    "A box plot is a good statistical graph, however it shows only a simple summary of the distribution of a data. So, it is not the best method for detailed analysis. As box plot can hide some details of a distribution and even showing if a data set is symmetric, it cannot tell the shape of the symmetry. Therefore, to examine those details it should be used in combination with another statistical graph method, such as a histogram and/or a stem and leaf display [1, 3, 6]."
   ]
  },
  {
   "cell_type": "markdown",
   "metadata": {},
   "source": [
    "# References\n",
    "\n",
    "1. https://python-graph-gallery.com/boxplot/\n",
    "2. https://pandas.pydata.org/pandas-docs/stable/generated/pandas.DataFrame.boxplot.html\n",
    "3. http://onlinestatbook.com/2/graphing_distributions/boxplots.html\n",
    "4. https://towardsdatascience.com/understanding-boxplots-5e2df7bcbd51\n",
    "5. http://asq.org/learn-about-quality/data-collection-analysis-tools/overview/box-whisker-plot.html\n",
    "6. https://www.dummies.com/education/math/statistics/what-a-boxplot-can-tell-you-about-a-statistical-data-set/\n",
    "7. http://www.math.wpi.edu/saspdf/stat/chap18.pdf\n",
    "8. https://chartio.com/resources/tutorials/what-is-a-box-plot/\n",
    "9. https://matplotlib.org/api/_as_gen/matplotlib.pyplot.boxplot.html"
   ]
  },
  {
   "cell_type": "markdown",
   "metadata": {},
   "source": [
    "# End"
   ]
  }
 ],
 "metadata": {
  "kernelspec": {
   "display_name": "Python 3",
   "language": "python",
   "name": "python3"
  },
  "language_info": {
   "codemirror_mode": {
    "name": "ipython",
    "version": 3
   },
   "file_extension": ".py",
   "mimetype": "text/x-python",
   "name": "python",
   "nbconvert_exporter": "python",
   "pygments_lexer": "ipython3",
   "version": "3.6.3"
  }
 },
 "nbformat": 4,
 "nbformat_minor": 2
}
