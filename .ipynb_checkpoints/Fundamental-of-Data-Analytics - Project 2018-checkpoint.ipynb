{
 "cells": [
  {
   "cell_type": "markdown",
   "metadata": {},
   "source": [
    "<a href=\"https://ibb.co/h3GAuq\"><img src=\"https://image.ibb.co/kt1M0V/GMIT-LOGO.png\" alt=\"GMIT-LOGO\" border=\"0\"></a>\n",
    "\n",
    "\n",
    "# HD Computer Science - Data Analytics\n",
    "\n",
    "# Fundamental of Data Analytics - Project 2018"
   ]
  },
  {
   "cell_type": "markdown",
   "metadata": {
    "collapsed": true
   },
   "source": [
    "# About the project\n"
   ]
  },
  {
   "cell_type": "markdown",
   "metadata": {},
   "source": [
    "# What is box plot?\n",
    "\n",
    "The 'Box and Whisker Plot\" was introduced by the American mathematician John W. Tukey in 1969 as a diagram to visualize the 'Five Number Summary' of any data set [8]. \n",
    "\n",
    "[John Tukey] <a href=\"https://ibb.co/4PQG1YN\"><img src=\"https://i.ibb.co/2gbQZsK/John-Tukey.jpg\" alt=\"John-Tukey\" border=\"0\"></a>\n",
    "\n",
    "Since 1969 box plot has been used and probably is one of the most used type of graphic  as it is a very effective and easy to read [1,5, 8]. \n",
    "A box plot is a standardized method for displaying the distribution of data based on their quartiles (minimum, first quartile Q1, median, third quartile Q3 and maximum) [2,4]. That way, a box plot summarizes the distribution of data from multiple sources in a single graph [1, 5].\n",
    "\n",
    "[Example of a box plot] <a href=\"https://ibb.co/8dSchyV\"><img src=\"https://i.ibb.co/Sd9rLkp/Box-Plot-mit-Interquartilsabstand.png\" alt=\"Box-Plot-mit-Interquartilsabstand\" border=\"0\"></a>\n",
    "\n",
    "A box plot allows the comparison of data from different categories and gives a range of information, such as shape, center (median) and variability of a data set and it makes easier for decision-making [5, 6]."
   ]
  },
  {
   "cell_type": "markdown",
   "metadata": {},
   "source": [
    "# Variations of box plot"
   ]
  },
  {
   "cell_type": "markdown",
   "metadata": {},
   "source": [
    "# Why and when a box plot should be used?"
   ]
  },
  {
   "cell_type": "markdown",
   "metadata": {},
   "source": [
    "# How to read the box plot?\n",
    "\n",
    "Basically the box plot shows 'Five number summary': median, 25th percentile, 75th percentile, minimum and maximum. The line inside the box represents the median (50th percentile) of the data. The end of the box represents the upper and lower quartiles (75th and 25th percentiles). The extreme lines (whiskers) represent the maximum and minimum value not including the outliers number [1].\n",
    "\n",
    "\n",
    "\n",
    "IMAGEM BOXPLOT COM ESTES TERMOS ABAIXO DESCRITOS . DESKTOP COMO BOXPLOT.GIF\n",
    "\n",
    "\n",
    "\n",
    "Terminology:\n",
    "\n",
    "|Terminoloy|Definition|\n",
    "| --- | --- |\n",
    "| Box | Main body of a box plot graph [9]|\n",
    "| Whiskers | Vertical lines that extends to the most extreme, but non-outlier data points. They represent the response variable. [3, 9]|\n",
    "| Caps | Horizontal lines at the end of the whiskers [9]|\n",
    "| Q1 First quartile/25th Percentile/Lower hinge | Middle value between the smallest value and the median (Q2/50th percentile) of a data set [4]|\n",
    "| Median/Q2 Second quartile/50th Percentile | Horizontal line inside the box that represents the middle value of the data set [4, 9] |\n",
    "| Q3 Third quartile/75th Percentile/Upper hinge | Middle number between the median (Q2/50th percentile) and the highest number of a data set [4]|\n",
    "| IQR Interquartile range/H-spread | Range from 25th to 75th percentile (Q3 - Q1) [4]|\n",
    "| Step | 1.5 * IQR or H-spread [3]|\n",
    "| Maximum/Upper inner fence | Q3 + 1 step or 1.5 * IQR [4] |\n",
    "| Minimum/Lower inner fence  |Q1 -  1 step or 1.5 * IQR [4] |\n",
    "| Upper outer fence | Q3 + 2 steps [3] |\n",
    "| Lower outer fence | Q1 - 2 steps [3] |\n",
    "| Upper adjacent | Highest value below upper inner fence/maximum [3] |\n",
    "| Lower adjacent | Smallest number above lower inner fence/minimum [3] |\n",
    "| Outliers/fliers | Points that represent data that extend beyond the whiskers [9] |\n",
    "\n",
    "\n",
    "A box plot shows basic information about the distribution of a data. The median of a symmetric data set roughly is in the middle of the box [6]. A skewed data set show a lopsided box plot, where the box is divided in two unequal pieces [6]. If the whisker is longer in the positive direction than in the negative direction or the mean is larger than the median it shows a distribution with a positive skew [3]."
   ]
  },
  {
   "cell_type": "markdown",
   "metadata": {},
   "source": [
    "# Demonstration of the use of the box plot"
   ]
  },
  {
   "cell_type": "code",
   "execution_count": null,
   "metadata": {
    "collapsed": true
   },
   "outputs": [],
   "source": []
  },
  {
   "cell_type": "markdown",
   "metadata": {},
   "source": [
    "### The INtegrated Mapping FOr the Sustainable Development of Ireland's MArine Resource (INFOMAR) Seabed Samples Particle Size Analysis data set\n",
    "\n",
    "/////INFOMAR is a programme from the Geological Survey of Ireland (GSI) and the Marine Institute (MI) that concentrates on creating integrated mapping products related to the seabed.\n",
    "INFOMAR Seabed Samples Particle Size Analysis represent locations where samples have been taken and particle size analysis (PSA) carried out on samples.Sediment type classification based on percentage sand, mud and gravel (after Folk 1954).\n",
    "PSA is applied to determine the range of sediment sizes contained in the sample which can often reveal an insight about the processes operating in the depositional environment. The results show percentage gravels, sands, silt and mud present in the sample. /////"
   ]
  },
  {
   "cell_type": "code",
   "execution_count": null,
   "metadata": {
    "collapsed": true
   },
   "outputs": [],
   "source": []
  },
  {
   "cell_type": "code",
   "execution_count": null,
   "metadata": {
    "collapsed": true
   },
   "outputs": [],
   "source": []
  },
  {
   "cell_type": "code",
   "execution_count": null,
   "metadata": {
    "collapsed": true
   },
   "outputs": [],
   "source": []
  },
  {
   "cell_type": "code",
   "execution_count": null,
   "metadata": {
    "collapsed": true
   },
   "outputs": [],
   "source": []
  },
  {
   "cell_type": "markdown",
   "metadata": {},
   "source": [
    "# Alternatives to box plot\n",
    "\n",
    "A box plot is a good statistical graph, however it shows only a simple summary of the distribution of a data. So, it is not the best method for detailed analysis. As box plot can hide some details of a distribution and even showing if a data set is symmetric, it cannot tell the shape of the symmetry. Therefore, to examine those details it should be used in combination with another statistical graph method, such as a histogram and/or a stem and leaf display [1, 3, 6]."
   ]
  },
  {
   "cell_type": "markdown",
   "metadata": {},
   "source": [
    "# References\n",
    "\n",
    "1. https://python-graph-gallery.com/boxplot/\n",
    "2. https://pandas.pydata.org/pandas-docs/stable/generated/pandas.DataFrame.boxplot.html\n",
    "3. http://onlinestatbook.com/2/graphing_distributions/boxplots.html\n",
    "4. https://towardsdatascience.com/understanding-boxplots-5e2df7bcbd51\n",
    "5. http://asq.org/learn-about-quality/data-collection-analysis-tools/overview/box-whisker-plot.html\n",
    "6. https://www.dummies.com/education/math/statistics/what-a-boxplot-can-tell-you-about-a-statistical-data-set/\n",
    "7. http://www.math.wpi.edu/saspdf/stat/chap18.pdf\n",
    "8. https://chartio.com/resources/tutorials/what-is-a-box-plot/\n",
    "9. https://matplotlib.org/api/_as_gen/matplotlib.pyplot.boxplot.html"
   ]
  },
  {
   "cell_type": "markdown",
   "metadata": {},
   "source": [
    "# End"
   ]
  }
 ],
 "metadata": {
  "kernelspec": {
   "display_name": "Python 3",
   "language": "python",
   "name": "python3"
  },
  "language_info": {
   "codemirror_mode": {
    "name": "ipython",
    "version": 3
   },
   "file_extension": ".py",
   "mimetype": "text/x-python",
   "name": "python",
   "nbconvert_exporter": "python",
   "pygments_lexer": "ipython3",
   "version": "3.6.3"
  }
 },
 "nbformat": 4,
 "nbformat_minor": 2
}
